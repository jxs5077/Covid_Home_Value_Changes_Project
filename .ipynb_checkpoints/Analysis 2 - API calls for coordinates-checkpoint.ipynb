{
 "cells": [
  {
   "cell_type": "code",
   "execution_count": 1,
   "metadata": {},
   "outputs": [],
   "source": [
    "# Dependencies and Setup\n",
    "%matplotlib inline\n",
    "import matplotlib.pyplot as plt\n",
    "import pandas as pd\n",
    "import numpy as np\n",
    "import requests\n",
    "import gmaps\n",
    "import gmaps.datasets\n",
    "import os\n",
    "\n",
    "# Import API key\n",
    "from config import weather_api_key\n",
    "from citipy import citipy\n",
    "\n",
    "# Output File (CSV)\n",
    "output_data_file = \"mapping/coord_cnty.csv\"\n",
    "city_map = pd.read_csv(output_data_file)\n",
    "\n",
    "# Range of latitudes and longitudes, changed for US\n",
    "lat_range = (-38, 38)\n",
    "lng_range = (-97, 97)"
   ]
  },
  {
   "cell_type": "markdown",
   "metadata": {},
   "source": [
    "<font size=5>Find coordinates for cities within specific counties</font>"
   ]
  },
  {
   "cell_type": "code",
   "execution_count": 2,
   "metadata": {},
   "outputs": [
    {
     "data": {
      "text/plain": [
       "37"
      ]
     },
     "execution_count": 2,
     "metadata": {},
     "output_type": "execute_result"
    }
   ],
   "source": [
    "# List for holding lat_lngs and list of cities to be found\n",
    "lat_lngs = []\n",
    "cities = ['Los Angeles', 'Riverside', 'Victorville','Bakersfield','Cartago','Thousand Oaks','Irvine','Escondido',\n",
    "          'Brawley','Houston','Conroe','Dayton','Beach City','League City','Angleton','Rosenberg','Hempstead',\n",
    "          'Dallas','Fort Worth','Weatherford','Decatur','Denton','McKinney','Cleburne','Palmer','Terrell','Rockwall',\n",
    "          'Miami','Davie','West Palm Beach','Key West','Golden Gate','Fort Myers','Clewiston','Buckhead Ridge',\n",
    "          'Taylor Creek','Palm City']\n",
    "\n",
    "# Create a set of random lat and lng combinations\n",
    "lats = np.random.uniform(lat_range[0], lat_range[1], size=40)\n",
    "lngs = np.random.uniform(lng_range[0], lng_range[1], size=40)\n",
    "lat_lngs = zip(lats, lngs)\n",
    "\n",
    "# Identify city for each lat, lng combination\n",
    "for lat_lng in lat_lngs:\n",
    "    city = citipy.nearest_city(lat_lng[0], lat_lng[1]).city_name\n",
    "\n",
    "# Print the city count to confirm sufficient count\n",
    "len(cities)"
   ]
  },
  {
   "cell_type": "markdown",
   "metadata": {},
   "source": [
    "<font size=5>Set up loop to find coordinates.</font>"
   ]
  },
  {
   "cell_type": "code",
   "execution_count": 3,
   "metadata": {},
   "outputs": [
    {
     "name": "stdout",
     "output_type": "stream",
     "text": [
      "-------Beginning of Data Retrieval--------\n",
      "Processing Record 0 of Set 1 | Los Angeles\n",
      "Processing Record 1 of Set 1 | Riverside\n",
      "Processing Record 2 of Set 1 | Victorville\n",
      "Processing Record 3 of Set 1 | Bakersfield\n",
      "Processing Record 4 of Set 1 | Cartago\n",
      "Processing Record 5 of Set 1 | Thousand Oaks\n",
      "Processing Record 6 of Set 1 | Irvine\n",
      "Processing Record 7 of Set 1 | Escondido\n",
      "Processing Record 8 of Set 1 | Brawley\n",
      "Processing Record 9 of Set 1 | Houston\n",
      "Processing Record 10 of Set 1 | Conroe\n",
      "Processing Record 11 of Set 1 | Dayton\n",
      "Processing Record 12 of Set 1 | Beach City\n",
      "Processing Record 13 of Set 1 | League City\n",
      "Processing Record 14 of Set 1 | Angleton\n",
      "Processing Record 15 of Set 1 | Rosenberg\n",
      "Processing Record 16 of Set 1 | Hempstead\n",
      "Processing Record 17 of Set 1 | Dallas\n",
      "Processing Record 18 of Set 1 | Fort Worth\n",
      "Processing Record 19 of Set 1 | Weatherford\n",
      "Processing Record 20 of Set 1 | Decatur\n",
      "Processing Record 21 of Set 1 | Denton\n",
      "Processing Record 22 of Set 1 | McKinney\n",
      "Processing Record 23 of Set 1 | Cleburne\n",
      "Processing Record 24 of Set 1 | Palmer\n",
      "Processing Record 25 of Set 1 | Terrell\n",
      "Processing Record 26 of Set 1 | Rockwall\n",
      "Processing Record 27 of Set 1 | Miami\n",
      "Processing Record 28 of Set 1 | Davie\n",
      "Processing Record 29 of Set 1 | West Palm Beach\n",
      "Processing Record 30 of Set 1 | Key West\n",
      "Processing Record 31 of Set 1 | Golden Gate\n",
      "Processing Record 32 of Set 1 | Fort Myers\n",
      "Processing Record 33 of Set 1 | Clewiston\n",
      "Processing Record 34 of Set 1 | Buckhead Ridge\n",
      "Processing Record 35 of Set 1 | Taylor Creek\n",
      "Processing Record 36 of Set 1 | Palm City\n",
      "-----------------------\n",
      "Data Retrieval Complete\n",
      "-----------------------\n"
     ]
    }
   ],
   "source": [
    "#Working with a loop\n",
    "url = \"http://api.openweathermap.org/data/2.5/weather?\"\n",
    "\n",
    "#Set up lists to hold response for coordinates\n",
    "lat1 = []\n",
    "lng1 = []\n",
    "counter = 0\n",
    "sets = 1\n",
    "\n",
    "# Loop through the list of cities set by previous loop and perform a request for data on each []\n",
    "print(\"-------Beginning of Data Retrieval--------\")\n",
    "\n",
    "for city in cities:\n",
    "    city=city\n",
    "    \n",
    "    query_url = url + \"&q=\" + city + \"&appid=\" + weather_api_key + \"&units=Imperial\"\n",
    "    response = requests.get(query_url).json()\n",
    "    \n",
    "    try:\n",
    "        print(f\"Processing Record {counter} of Set {sets} | {city}\")\n",
    "        lat1.append(response['coord']['lat'])\n",
    "        lng1.append(response['coord']['lon'])\n",
    "\n",
    "    except: \n",
    "        print('City not found. Skipping...')\n",
    "        lat1.append(np.nan)\n",
    "        lng1.append(np.nan)\n",
    "        \n",
    "    counter = counter + 1\n",
    "    if counter == 50:\n",
    "        counter = 0\n",
    "        sets = sets + 1\n",
    "\n",
    "print(\"-----------------------\")      \n",
    "print(\"Data Retrieval Complete\")\n",
    "print(\"-----------------------\")"
   ]
  },
  {
   "cell_type": "code",
   "execution_count": 4,
   "metadata": {},
   "outputs": [],
   "source": [
    "#Create  a data frame from all lists\n",
    "map_dict = {\n",
    "    \"City\": cities,\n",
    "    \"Lat\": lat1,\n",
    "    \"Lng\": lng1,\n",
    "}\n",
    "\n",
    "map_data = pd.DataFrame(map_dict)\n",
    "# map_data"
   ]
  },
  {
   "cell_type": "code",
   "execution_count": 5,
   "metadata": {},
   "outputs": [],
   "source": [
    "#Export the city data into a .csv.\n",
    "map_data.to_csv('output_data/county_coord_data.csv', index=False)"
   ]
  },
  {
   "cell_type": "markdown",
   "metadata": {},
   "source": [
    "<font size=5>Repeat above method applied to state capitals.</font>"
   ]
  },
  {
   "cell_type": "code",
   "execution_count": 6,
   "metadata": {},
   "outputs": [],
   "source": [
    "# Output File (CSV)\n",
    "output_file = \"mapping/capital_api.csv\"\n",
    "cap_map = pd.read_csv(output_file)\n",
    "\n",
    "# Range of latitudes and longitudes, changed for US\n",
    "lat_range = (-90, 90)\n",
    "lng_range = (-180, 180)"
   ]
  },
  {
   "cell_type": "code",
   "execution_count": 7,
   "metadata": {},
   "outputs": [
    {
     "data": {
      "text/plain": [
       "48"
      ]
     },
     "execution_count": 7,
     "metadata": {},
     "output_type": "execute_result"
    }
   ],
   "source": [
    "# List for holding lat_lngs and capitol lists to find coordinates per state\n",
    "lat_lngs = []\n",
    "cap_cities = ['Montgomery','Phoenix','Little Rock','Sacramento','Denver','Helena','Lincoln','Carson City','Concord',\n",
    "              'Trenton','Santa Fe','Hartford','Albany','Dover','Raleigh','Tallahassee','Bismarck','Atlanta','Columbus',\n",
    "              'Oklahoma City','Boise','Salem','Springfield','Harrisburg','Indianapolis','Providence','Des Moines',\n",
    "              'Columbia','Topeka','Pierre','Frankfort','Nashville','Baton Rouge','Austin','Augusta','Salt Lake City',\n",
    "              'Annapolis','Montpelier','Boston','Richmond','Lansing','Olympia','St. Paul','Charleston','Jackson','Madison',\n",
    "              'Jefferson City','Cheyenne']\n",
    "\n",
    "# Create a set of random lat and lng combinations\n",
    "lats = np.random.uniform(lat_range[0], lat_range[1], size=50)\n",
    "lngs = np.random.uniform(lng_range[0], lng_range[1], size=50)\n",
    "lat_lngs = zip(lats, lngs)\n",
    "\n",
    "# Identify nearest city for each lat, lng combination\n",
    "for lat_lng in lat_lngs:\n",
    "    city = citipy.nearest_city(lat_lng[0], lat_lng[1]).city_name\n",
    "\n",
    "# Print the city count to confirm sufficient count\n",
    "len(cap_cities)"
   ]
  },
  {
   "cell_type": "code",
   "execution_count": 8,
   "metadata": {},
   "outputs": [
    {
     "name": "stdout",
     "output_type": "stream",
     "text": [
      "-------Beginning of Data Retrieval--------\n",
      "Processing Record 0 of Set 1 | Montgomery\n",
      "Processing Record 1 of Set 1 | Phoenix\n",
      "Processing Record 2 of Set 1 | Little Rock\n",
      "Processing Record 3 of Set 1 | Sacramento\n",
      "Processing Record 4 of Set 1 | Denver\n",
      "Processing Record 5 of Set 1 | Helena\n",
      "Processing Record 6 of Set 1 | Lincoln\n",
      "Processing Record 7 of Set 1 | Carson City\n",
      "Processing Record 8 of Set 1 | Concord\n",
      "Processing Record 9 of Set 1 | Trenton\n",
      "Processing Record 10 of Set 1 | Santa Fe\n",
      "Processing Record 11 of Set 1 | Hartford\n",
      "Processing Record 12 of Set 1 | Albany\n",
      "Processing Record 13 of Set 1 | Dover\n",
      "Processing Record 14 of Set 1 | Raleigh\n",
      "Processing Record 15 of Set 1 | Tallahassee\n",
      "Processing Record 16 of Set 1 | Bismarck\n",
      "Processing Record 17 of Set 1 | Atlanta\n",
      "Processing Record 18 of Set 1 | Columbus\n",
      "Processing Record 19 of Set 1 | Oklahoma City\n",
      "Processing Record 20 of Set 1 | Boise\n",
      "Processing Record 21 of Set 1 | Salem\n",
      "Processing Record 22 of Set 1 | Springfield\n",
      "Processing Record 23 of Set 1 | Harrisburg\n",
      "Processing Record 24 of Set 1 | Indianapolis\n",
      "Processing Record 25 of Set 1 | Providence\n",
      "Processing Record 26 of Set 1 | Des Moines\n",
      "Processing Record 27 of Set 1 | Columbia\n",
      "Processing Record 28 of Set 1 | Topeka\n",
      "Processing Record 29 of Set 1 | Pierre\n",
      "Processing Record 30 of Set 1 | Frankfort\n",
      "Processing Record 31 of Set 1 | Nashville\n",
      "Processing Record 32 of Set 1 | Baton Rouge\n",
      "Processing Record 33 of Set 1 | Austin\n",
      "Processing Record 34 of Set 1 | Augusta\n",
      "Processing Record 35 of Set 1 | Salt Lake City\n",
      "Processing Record 36 of Set 1 | Annapolis\n",
      "Processing Record 37 of Set 1 | Montpelier\n",
      "Processing Record 38 of Set 1 | Boston\n",
      "Processing Record 39 of Set 1 | Richmond\n",
      "Processing Record 40 of Set 1 | Lansing\n",
      "Processing Record 41 of Set 1 | Olympia\n",
      "Processing Record 42 of Set 1 | St. Paul\n",
      "Processing Record 43 of Set 1 | Charleston\n",
      "Processing Record 44 of Set 1 | Jackson\n",
      "Processing Record 45 of Set 1 | Madison\n",
      "Processing Record 46 of Set 1 | Jefferson City\n",
      "Processing Record 47 of Set 1 | Cheyenne\n",
      "-----------------------\n",
      "Data Retrieval Complete\n",
      "-----------------------\n"
     ]
    }
   ],
   "source": [
    "#Working with a loop\n",
    "url = \"http://api.openweathermap.org/data/2.5/weather?\"\n",
    "\n",
    "#Set up lists to hold response info\n",
    "lat2 = []\n",
    "lng2 = []\n",
    "counter = 0\n",
    "sets = 1\n",
    "\n",
    "# Loop through the list of cities set by previous loop and perform a request for data on each []\n",
    "print(\"-------Beginning of Data Retrieval--------\")\n",
    "\n",
    "for city in cap_cities:\n",
    "    city=city\n",
    "    \n",
    "    query_url = url + \"&q=\" + city + \"&appid=\" + weather_api_key + \"&units=Imperial\"\n",
    "    response = requests.get(query_url).json()\n",
    "    \n",
    "    try:\n",
    "        print(f\"Processing Record {counter} of Set {sets} | {city}\")\n",
    "        lat2.append(response['coord']['lat'])\n",
    "        lng2.append(response['coord']['lon'])\n",
    "\n",
    "    except: \n",
    "        print('City not found. Skipping...')\n",
    "        lat2.append(np.nan)\n",
    "        lng2.append(np.nan)\n",
    "        \n",
    "    counter = counter + 1\n",
    "    if counter == 50:\n",
    "        counter = 0\n",
    "        sets = sets + 1\n",
    "\n",
    "print(\"-----------------------\")      \n",
    "print(\"Data Retrieval Complete\")\n",
    "print(\"-----------------------\")"
   ]
  },
  {
   "cell_type": "code",
   "execution_count": 9,
   "metadata": {},
   "outputs": [],
   "source": [
    "#Create  a data frame from all lists\n",
    "cap_dict = {\n",
    "    \"City\": cap_cities,\n",
    "    \"Lat\": lat2,\n",
    "    \"Lng\": lng2,\n",
    "}\n",
    "\n",
    "cap_data = pd.DataFrame(cap_dict)\n",
    "# cap_data"
   ]
  },
  {
   "cell_type": "code",
   "execution_count": 10,
   "metadata": {},
   "outputs": [],
   "source": [
    "#Add a new column of states coordinating with capitols for merge attempt with census data\n",
    "cap_data['NAME'] = ['Alabama', 'Arizona','Arkansas','California','Colorado','Montana','Nebraska','Nevada',\n",
    "                      'New Hampshire','New Jersey','New Mexico','Connecticut','New York','Delaware','North Carolina',\n",
    "                      'Florida','North Dakota','Georgia','Ohio','Oklahoma','Idaho','Oregon','Illinois','Pennsylvania',\n",
    "                      'Indiana','Rhode Island','Iowa','South Carolina','Kansas','South Dakota','Kentucky','Tennessee',\n",
    "                      'Louisiana','Texas','Maine','Utah','Maryland','Vermont','Massachusetts','Virginia','Michigan','Washington',\n",
    "                      'Minnesota','West Virginia','Mississippi','Wisconsin','Missouri','Wyoming']\n",
    "# cap_data.head()"
   ]
  },
  {
   "cell_type": "code",
   "execution_count": 11,
   "metadata": {},
   "outputs": [],
   "source": [
    "#Export the city data into a .csv.\n",
    "cap_data.to_csv('output_data/state_cap_data.csv', index=False)"
   ]
  }
 ],
 "metadata": {
  "hide_input": false,
  "kernelspec": {
   "display_name": "Python 3",
   "language": "python",
   "name": "python3"
  },
  "language_info": {
   "codemirror_mode": {
    "name": "ipython",
    "version": 3
   },
   "file_extension": ".py",
   "mimetype": "text/x-python",
   "name": "python",
   "nbconvert_exporter": "python",
   "pygments_lexer": "ipython3",
   "version": "3.9.1"
  },
  "varInspector": {
   "cols": {
    "lenName": 16,
    "lenType": 16,
    "lenVar": 40
   },
   "kernels_config": {
    "python": {
     "delete_cmd_postfix": "",
     "delete_cmd_prefix": "del ",
     "library": "var_list.py",
     "varRefreshCmd": "print(var_dic_list())"
    },
    "r": {
     "delete_cmd_postfix": ") ",
     "delete_cmd_prefix": "rm(",
     "library": "var_list.r",
     "varRefreshCmd": "cat(var_dic_list()) "
    }
   },
   "types_to_exclude": [
    "module",
    "function",
    "builtin_function_or_method",
    "instance",
    "_Feature"
   ],
   "window_display": false
  }
 },
 "nbformat": 4,
 "nbformat_minor": 4
}
